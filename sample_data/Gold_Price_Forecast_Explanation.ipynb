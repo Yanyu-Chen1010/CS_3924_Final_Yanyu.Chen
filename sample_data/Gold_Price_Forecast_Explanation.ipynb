{
  "nbformat": 4,
  "nbformat_minor": 0,
  "metadata": {
    "colab": {
      "name": "Gold Price Forecast Explanation.ipynb",
      "provenance": [],
      "collapsed_sections": [
        "WvKVy5KOfrXs"
      ]
    },
    "kernelspec": {
      "name": "python3",
      "display_name": "Python 3"
    },
    "language_info": {
      "name": "python"
    }
  },
  "cells": [
    {
      "cell_type": "markdown",
      "source": [
        "# Project Purpose: \n",
        "\n",
        "Forecast Gold Price and Interpret by LIME and SHAP\n",
        "\n",
        "packages install below:"
      ],
      "metadata": {
        "id": "WvKVy5KOfrXs"
      }
    },
    {
      "cell_type": "code",
      "source": [
        "# 每次重启 runtime 时，跑一次 install 就够了\n",
        "!pip install -U xgboost\n",
        "!pip install lime shap"
      ],
      "metadata": {
        "colab": {
          "base_uri": "https://localhost:8080/"
        },
        "id": "EYsJkYSJQ-av",
        "outputId": "2e5d9ac1-198d-41da-ad18-6f8c59fc4ef6"
      },
      "execution_count": null,
      "outputs": [
        {
          "output_type": "stream",
          "name": "stdout",
          "text": [
            "Requirement already satisfied: xgboost in /usr/local/lib/python3.7/dist-packages (0.90)\n",
            "Collecting xgboost\n",
            "  Downloading xgboost-1.6.0-py3-none-manylinux2014_x86_64.whl (193.7 MB)\n",
            "\u001b[K     |████████████████████████████████| 193.7 MB 33 kB/s \n",
            "\u001b[?25hRequirement already satisfied: numpy in /usr/local/lib/python3.7/dist-packages (from xgboost) (1.21.6)\n",
            "Requirement already satisfied: scipy in /usr/local/lib/python3.7/dist-packages (from xgboost) (1.4.1)\n",
            "Installing collected packages: xgboost\n",
            "  Attempting uninstall: xgboost\n",
            "    Found existing installation: xgboost 0.90\n",
            "    Uninstalling xgboost-0.90:\n",
            "      Successfully uninstalled xgboost-0.90\n",
            "Successfully installed xgboost-1.6.0\n",
            "Collecting lime\n",
            "  Downloading lime-0.2.0.1.tar.gz (275 kB)\n",
            "\u001b[K     |████████████████████████████████| 275 kB 5.1 MB/s \n",
            "\u001b[?25hCollecting shap\n",
            "  Downloading shap-0.40.0-cp37-cp37m-manylinux2010_x86_64.whl (564 kB)\n",
            "\u001b[K     |████████████████████████████████| 564 kB 40.8 MB/s \n",
            "\u001b[?25hRequirement already satisfied: matplotlib in /usr/local/lib/python3.7/dist-packages (from lime) (3.2.2)\n",
            "Requirement already satisfied: numpy in /usr/local/lib/python3.7/dist-packages (from lime) (1.21.6)\n",
            "Requirement already satisfied: scipy in /usr/local/lib/python3.7/dist-packages (from lime) (1.4.1)\n",
            "Requirement already satisfied: tqdm in /usr/local/lib/python3.7/dist-packages (from lime) (4.64.0)\n",
            "Requirement already satisfied: scikit-learn>=0.18 in /usr/local/lib/python3.7/dist-packages (from lime) (1.0.2)\n",
            "Requirement already satisfied: scikit-image>=0.12 in /usr/local/lib/python3.7/dist-packages (from lime) (0.18.3)\n",
            "Requirement already satisfied: tifffile>=2019.7.26 in /usr/local/lib/python3.7/dist-packages (from scikit-image>=0.12->lime) (2021.11.2)\n",
            "Requirement already satisfied: pillow!=7.1.0,!=7.1.1,>=4.3.0 in /usr/local/lib/python3.7/dist-packages (from scikit-image>=0.12->lime) (7.1.2)\n",
            "Requirement already satisfied: networkx>=2.0 in /usr/local/lib/python3.7/dist-packages (from scikit-image>=0.12->lime) (2.6.3)\n",
            "Requirement already satisfied: imageio>=2.3.0 in /usr/local/lib/python3.7/dist-packages (from scikit-image>=0.12->lime) (2.4.1)\n",
            "Requirement already satisfied: PyWavelets>=1.1.1 in /usr/local/lib/python3.7/dist-packages (from scikit-image>=0.12->lime) (1.3.0)\n",
            "Requirement already satisfied: python-dateutil>=2.1 in /usr/local/lib/python3.7/dist-packages (from matplotlib->lime) (2.8.2)\n",
            "Requirement already satisfied: cycler>=0.10 in /usr/local/lib/python3.7/dist-packages (from matplotlib->lime) (0.11.0)\n",
            "Requirement already satisfied: pyparsing!=2.0.4,!=2.1.2,!=2.1.6,>=2.0.1 in /usr/local/lib/python3.7/dist-packages (from matplotlib->lime) (3.0.8)\n",
            "Requirement already satisfied: kiwisolver>=1.0.1 in /usr/local/lib/python3.7/dist-packages (from matplotlib->lime) (1.4.2)\n",
            "Requirement already satisfied: typing-extensions in /usr/local/lib/python3.7/dist-packages (from kiwisolver>=1.0.1->matplotlib->lime) (4.2.0)\n",
            "Requirement already satisfied: six>=1.5 in /usr/local/lib/python3.7/dist-packages (from python-dateutil>=2.1->matplotlib->lime) (1.15.0)\n",
            "Requirement already satisfied: threadpoolctl>=2.0.0 in /usr/local/lib/python3.7/dist-packages (from scikit-learn>=0.18->lime) (3.1.0)\n",
            "Requirement already satisfied: joblib>=0.11 in /usr/local/lib/python3.7/dist-packages (from scikit-learn>=0.18->lime) (1.1.0)\n",
            "Requirement already satisfied: numba in /usr/local/lib/python3.7/dist-packages (from shap) (0.51.2)\n",
            "Requirement already satisfied: cloudpickle in /usr/local/lib/python3.7/dist-packages (from shap) (1.3.0)\n",
            "Requirement already satisfied: pandas in /usr/local/lib/python3.7/dist-packages (from shap) (1.3.5)\n",
            "Collecting slicer==0.0.7\n",
            "  Downloading slicer-0.0.7-py3-none-any.whl (14 kB)\n",
            "Requirement already satisfied: packaging>20.9 in /usr/local/lib/python3.7/dist-packages (from shap) (21.3)\n",
            "Requirement already satisfied: setuptools in /usr/local/lib/python3.7/dist-packages (from numba->shap) (57.4.0)\n",
            "Requirement already satisfied: llvmlite<0.35,>=0.34.0.dev0 in /usr/local/lib/python3.7/dist-packages (from numba->shap) (0.34.0)\n",
            "Requirement already satisfied: pytz>=2017.3 in /usr/local/lib/python3.7/dist-packages (from pandas->shap) (2022.1)\n",
            "Building wheels for collected packages: lime\n",
            "  Building wheel for lime (setup.py) ... \u001b[?25l\u001b[?25hdone\n",
            "  Created wheel for lime: filename=lime-0.2.0.1-py3-none-any.whl size=283857 sha256=a438ebac2af1e5f6d408f49ed0ca69790c19bf4524d85445c61b15f62a5c2a32\n",
            "  Stored in directory: /root/.cache/pip/wheels/ca/cb/e5/ac701e12d365a08917bf4c6171c0961bc880a8181359c66aa7\n",
            "Successfully built lime\n",
            "Installing collected packages: slicer, shap, lime\n",
            "Successfully installed lime-0.2.0.1 shap-0.40.0 slicer-0.0.7\n"
          ]
        }
      ]
    },
    {
      "cell_type": "markdown",
      "source": [
        "# 1. Synthetic Dataset Creation & Model train and Test"
      ],
      "metadata": {
        "id": "ZZqQ1LEffGKQ"
      }
    },
    {
      "cell_type": "code",
      "source": [
        "# 8 features: Gold, Silver, Dollar Index, Platinum, Palladium, Economics Uncertainty Index, GPR index, Inflation\n",
        "\n",
        "import pandas as pd\n",
        "import numpy as np\n",
        "import seaborn as sns\n",
        "import matplotlib.pyplot as plt\n",
        "import tensorflow as tf\n",
        "\n",
        "from sklearn.model_selection import train_test_split\n",
        "from sklearn import metrics\n",
        "from google.colab import drive\n",
        "drive.mount('/content/drive')\n",
        "\n",
        "import os\n",
        "path=\"/content/drive/My Drive/Final Project_CS AI Visual/census/\""
      ],
      "metadata": {
        "id": "8_JOWnoy_Sn7",
        "colab": {
          "base_uri": "https://localhost:8080/"
        },
        "outputId": "077c7e8d-7e88-4bf6-c687-c63101ca937a"
      },
      "execution_count": null,
      "outputs": [
        {
          "output_type": "stream",
          "name": "stdout",
          "text": [
            "Drive already mounted at /content/drive; to attempt to forcibly remount, call drive.mount(\"/content/drive\", force_remount=True).\n"
          ]
        }
      ]
    },
    {
      "cell_type": "code",
      "source": [
        "df_ = pd.read_csv(filepath_or_buffer= path+\"names.csv\", header=None)\n",
        "columns = np.array(df_.iloc[:,0])"
      ],
      "metadata": {
        "id": "9Nv4aILn980Z"
      },
      "execution_count": null,
      "outputs": []
    },
    {
      "cell_type": "code",
      "source": [
        "df_census = pd.read_csv(filepath_or_buffer= path+\"census-income.csv\", names=columns)\n",
        "#df_census.info()"
      ],
      "metadata": {
        "id": "1OIa7zTP0AK5"
      },
      "execution_count": null,
      "outputs": []
    },
    {
      "cell_type": "code",
      "source": [
        "def convert_to_float(df, column):\n",
        "  temp_lst=[]\n",
        "  for ele in df[column]:\n",
        "    temp_lst.append(float(ele))\n",
        "  return temp_lst\n",
        "\n",
        "df = pd.DataFrame()\n",
        "for col in ['age', 'industry code', 'education', 'detailed household and family stat', 'capital gains', 'capital losses', 'total person income']:\n",
        "  df[col] = convert_to_float(df_census, col)"
      ],
      "metadata": {
        "id": "oW4jq4MD7DvF"
      },
      "execution_count": null,
      "outputs": []
    },
    {
      "cell_type": "code",
      "source": [
        "df.to_csv('Original Data of census income', index=False)"
      ],
      "metadata": {
        "id": "BU9zoEhaytHF"
      },
      "execution_count": null,
      "outputs": []
    },
    {
      "cell_type": "markdown",
      "source": [
        "### Collect and import raw data\n",
        "\n",
        "没有 inflation 得到的 visual 解读更 applicable"
      ],
      "metadata": {
        "id": "dEeU8QwdoT-l"
      }
    },
    {
      "cell_type": "code",
      "source": [
        "root = \"/content/drive/MyDrive/Final Project_CS AI Visual/Features_CSV/\"\n",
        "\n",
        "df_Dollar_index   = pd.read_csv(filepath_or_buffer= root+\"US Dollar Index Futures Historical Data.csv\", usecols=['Date', 'Price'])\n",
        "df_Crude_oil      = pd.read_csv(filepath_or_buffer= root+\"Crude Oil WTI Futures Historical Data.csv\", usecols=['Date', 'Price'])\n",
        "df_Silver         = pd.read_csv(filepath_or_buffer= root+\"Silver Futures Historical Data.csv\", usecols=['Date', 'Price'])\n",
        "df_Platinum       = pd.read_csv(filepath_or_buffer= root+\"Platinum Futures Historical Data.csv\", usecols=['Date', 'Price'])\n",
        "df_Palladium      = pd.read_csv(filepath_or_buffer= root+\"Palladium Futures Historical Data.csv\", usecols=['Date', 'Price'])\n",
        "df_GPR_idx        = pd.read_csv(filepath_or_buffer= root+'Geo Political Risk index.csv', usecols=['month', 'GPR'])\n",
        "df_Econ_Policy    = pd.read_csv(filepath_or_buffer= root+\"Economic Policy Uncertainty Index for US_Since 1985, JAN.csv\",)\n",
        "\n",
        "# Read xlsx\n",
        "file = root+'Gold Prices_Monthly Since 1978.xlsx'\n",
        "df_Gold = pd.read_excel(file, sheet_name='Monthly_Average', header=8, usecols=[\"Name\", \"US dollar\"])"
      ],
      "metadata": {
        "id": "KM41uU5398C4"
      },
      "execution_count": null,
      "outputs": []
    },
    {
      "cell_type": "code",
      "source": [
        "# Nov 2009\n",
        "df = pd.DataFrame()\n",
        "\n",
        "df[\"Gold\"]         = df_Gold.iloc[371:][\"US dollar\"].values\n",
        "df[\"Dollar_index\"] = df_Dollar_index[\"Price\"]\n",
        "df[\"Crude_oil\"]    = df_Crude_oil[\"Price\"]\n",
        "df[\"Silver\"]       = df_Silver[\"Price\"]\n",
        "df[\"Platinum\"]     = df_Platinum[\"Price\"]\n",
        "df[\"Palladium\"]    = df_Palladium[\"Price\"]\n",
        "\n",
        "df[\"Geo_Political_Risk_Index\"] = df_GPR_idx.iloc[1318:]['GPR'].values\n",
        "\n",
        "idx = df_Econ_Policy.loc[df_Econ_Policy['DATE'] == '2009/11/1'].index[0]\n",
        "df[\"Econ_Policy_Uncertainty\"] = df_Econ_Policy.iloc[idx:][\"USEPUINDXD\"].values"
      ],
      "metadata": {
        "id": "0HRzUMhgbUBS"
      },
      "execution_count": null,
      "outputs": []
    },
    {
      "cell_type": "code",
      "source": [
        "label_lst = [0]\n",
        "for i in range(0, len(df['Gold'])-1):\n",
        "  indicator = df['Gold'][i+1]-df['Gold'][i]\n",
        "  if indicator >= 0:\n",
        "    label_lst.append(1)\n",
        "  elif indicator < 0:\n",
        "    label_lst.append(0)\n",
        "df['Gold_trend_label'] = label_lst"
      ],
      "metadata": {
        "id": "yicajcB7wA66"
      },
      "execution_count": null,
      "outputs": []
    },
    {
      "cell_type": "code",
      "source": [
        "def convert_to_float(df, column):\n",
        "  temp_lst=[]\n",
        "  for ele in df[column]:\n",
        "    dumb = ele.replace(',', '')\n",
        "    temp_lst.append(float(dumb))\n",
        "  return temp_lst\n",
        "\n",
        "df['Platinum'] = convert_to_float(df, 'Platinum')\n",
        "df['Palladium'] = convert_to_float(df, 'Palladium')"
      ],
      "metadata": {
        "id": "O10ADWBne4-Y"
      },
      "execution_count": null,
      "outputs": []
    },
    {
      "cell_type": "markdown",
      "source": [
        "### Create Sythetic Dataset"
      ],
      "metadata": {
        "id": "OGUYxizIP1Z9"
      }
    },
    {
      "cell_type": "markdown",
      "source": [
        ""
      ],
      "metadata": {
        "id": "jDxGnl6uyqAa"
      }
    },
    {
      "cell_type": "code",
      "source": [
        "X = df.iloc[:,:8]\n",
        "y = df['Gold_trend_label']\n",
        "\n",
        "df.info()"
      ],
      "metadata": {
        "colab": {
          "base_uri": "https://localhost:8080/"
        },
        "id": "DnaTnPgJexdj",
        "outputId": "2dc8e877-256d-42b5-f8ce-aa11bd857c9b"
      },
      "execution_count": null,
      "outputs": [
        {
          "output_type": "stream",
          "name": "stdout",
          "text": [
            "<class 'pandas.core.frame.DataFrame'>\n",
            "RangeIndex: 149 entries, 0 to 148\n",
            "Data columns (total 9 columns):\n",
            " #   Column                    Non-Null Count  Dtype  \n",
            "---  ------                    --------------  -----  \n",
            " 0   Gold                      149 non-null    float64\n",
            " 1   Dollar_index              149 non-null    float64\n",
            " 2   Crude_oil                 149 non-null    float64\n",
            " 3   Silver                    149 non-null    float64\n",
            " 4   Platinum                  149 non-null    float64\n",
            " 5   Palladium                 149 non-null    float64\n",
            " 6   Geo_Political_Risk_Index  149 non-null    float64\n",
            " 7   Econ_Policy_Uncertainty   149 non-null    float64\n",
            " 8   Gold_trend_label          149 non-null    int64  \n",
            "dtypes: float64(8), int64(1)\n",
            "memory usage: 10.6 KB\n"
          ]
        }
      ]
    },
    {
      "cell_type": "code",
      "source": [
        "df.to_csv('Original Data of Gold Price', index=False)"
      ],
      "metadata": {
        "id": "usyorekzwAhD"
      },
      "execution_count": null,
      "outputs": []
    },
    {
      "cell_type": "markdown",
      "source": [
        "#### plot_corr_heatmap"
      ],
      "metadata": {
        "id": "pB4YAChL-UYD"
      }
    },
    {
      "cell_type": "code",
      "source": [
        "# Plot correlation matrix heatmap of features(X)\n",
        "# Below code quoted from: https://seaborn.pydata.org/examples/many_pairwise_correlations.html\n",
        "def plot_corr_heatmap(df):\n",
        "    corr = df.corr()\n",
        "    mask = np.triu(np.ones_like(corr, dtype=bool))\n",
        "    f, ax = plt.subplots(figsize=(11, 9))\n",
        "    cmap = sns.diverging_palette(230, 20, as_cmap=True)\n",
        "    sns.heatmap(corr, mask=mask, cmap=cmap, vmax=.3, center=0, annot=True, square=True, linewidths=.5, cbar_kws={\"shrink\": .5})\n",
        "    plt.gcf().set_size_inches(10, 8)\n",
        "\n",
        "plot_corr_heatmap(X)"
      ],
      "metadata": {
        "colab": {
          "base_uri": "https://localhost:8080/",
          "height": 595
        },
        "id": "2esWTutinhAl",
        "outputId": "f53a2eb4-74fb-49e3-ce10-bf5738de9d35"
      },
      "execution_count": null,
      "outputs": [
        {
          "output_type": "display_data",
          "data": {
            "text/plain": [
              "<Figure size 720x576 with 2 Axes>"
            ],
            "image/png": "[encoded data removed]"
          },
          "metadata": {
            "needs_background": "light"
          }
        }
      ]
    },
    {
      "cell_type": "markdown",
      "source": [
        "#### Synthetic Dataset\n",
        "\n",
        "create tabular data with different correlation"
      ],
      "metadata": {
        "id": "naiWxEBI-Y89"
      }
    },
    {
      "cell_type": "code",
      "source": [
        ""
      ],
      "metadata": {
        "id": "6OOtmlJf_nMx"
      },
      "execution_count": null,
      "outputs": []
    },
    {
      "cell_type": "markdown",
      "source": [
        "# 2. XGB train and test using Synthetic and SHAP_Values\n",
        "\n",
        "1. Find Acc/Precision/F1 of two XGBClassifer trained by X_train and X_train_S (SHAP value of X_train)\n",
        "\n",
        "2. Obtain the TreeSHAP explainers of X_input_for_train with different structures. (Synthetic Data)"
      ],
      "metadata": {
        "id": "ey7SEHsNRDdD"
      }
    },
    {
      "cell_type": "code",
      "source": [
        "import xgboost\n",
        "from xgboost.sklearn import XGBClassifier\n",
        "clf = XGBClassifier(eval_metric='auc')\n",
        "\n",
        "import shap\n",
        "import warnings\n",
        "warnings.filterwarnings(\"ignore\")\n",
        "\n",
        "def find_acc_precision_f1(X_test, y_test, clf, round_dig=4):\n",
        "  a = metrics.accuracy_score(y_test, clf.predict(X_test)).round(round_dig)\n",
        "  b = metrics.precision_score(y_test, clf.predict(X_test)).round(round_dig)\n",
        "  c = metrics.f1_score(y_test, clf.predict(X_test)).round(round_dig)\n",
        "  return [a, b, c]"
      ],
      "metadata": {
        "id": "KyGJ09DEtZyo"
      },
      "execution_count": null,
      "outputs": []
    },
    {
      "cell_type": "code",
      "source": [
        "# XGB - Original Data Input to train\n",
        "X_train, X_test, y_train, y_test = train_test_split(X, y, test_size=0.2)\n",
        "XGB_1 = clf.fit(X_train, y_train)\n",
        "\n",
        "\n",
        "# TREE SHAP_Explainer\n",
        "explainer = shap.TreeExplainer(XGB_1)\n",
        "#exp_stru1 = shap.TreeExplainer(clf.fit(X_train, y_train))   # clf - synthetic train data 1\n",
        "#exp_stru1 = shap.TreeExplainer(clf.fit(X_train, y_train))   # clf - synthetic train data 2\n",
        "\n",
        "\n",
        "# XGB - SHAP Value input to train\n",
        "shap_values = explainer.shap_values(X)\n",
        "shap_X = pd.DataFrame(shap_values, columns=df.columns[:8])\n",
        "X_train_S, X_test_S, y_train_S, y_test_S = train_test_split(shap_X, y, test_size=0.2)\n",
        "\n",
        "XGB_shap = clf.fit(X_train_S, y_train_S)"
      ],
      "metadata": {
        "id": "oRK6gjVcwjd6"
      },
      "execution_count": null,
      "outputs": []
    },
    {
      "cell_type": "code",
      "source": [
        "Synthetic_acc = 0\n",
        "\n",
        "# compare accuracy of models using different input train data\n",
        "print(\"Model Prediction Using: \\n. Original Input = {} \\n. Synthetic Input = {} \\n. SHAP Input = {}\".format(find_acc_precision_f1(X_test, y_test, XGB_1),\n",
        "                                                                                                            Synthetic_acc,\n",
        "                                                                                                            find_acc_precision_f1(X_test_S, y_test_S, XGB_shap)))"
      ],
      "metadata": {
        "colab": {
          "base_uri": "https://localhost:8080/"
        },
        "id": "Oe0vkRF1I9ge",
        "outputId": "0b519a6a-d1c2-460b-e40b-97b295415a4c"
      },
      "execution_count": null,
      "outputs": [
        {
          "output_type": "stream",
          "name": "stdout",
          "text": [
            "Model Prediction Using: \n",
            ". Original Input = [0.5, 0.5, 0.6667] \n",
            ". Synthetic Input = 0 \n",
            ". SHAP Input = [0.9333, 1.0, 0.9286]\n"
          ]
        }
      ]
    },
    {
      "cell_type": "markdown",
      "source": [
        "讲实话，SHAP value increase accurcay 的原因应该是numerically, the calculation is easier to round\n",
        "\n",
        "While the X_train includes value count in unit:thousand, most SHAP values are relatively too small"
      ],
      "metadata": {
        "id": "y6iAuJjJZVP2"
      }
    },
    {
      "cell_type": "code",
      "source": [
        "plt.title(\"Feature importance explanation by SHAP\")\n",
        "shap.summary_plot(shap_values, shap.sample(X_test), plot_type=\"bar\", show=True)"
      ],
      "metadata": {
        "colab": {
          "base_uri": "https://localhost:8080/",
          "height": 336
        },
        "id": "P3oDq9EGroRr",
        "outputId": "a63042ee-8411-474b-bb4e-6bbe8d2ac182"
      },
      "execution_count": null,
      "outputs": [
        {
          "output_type": "display_data",
          "data": {
            "text/plain": [
              "<Figure size 576x338.4 with 1 Axes>"
            ],
            "image/png": "[encoded data removed]"
          },
          "metadata": {
            "needs_background": "light"
          }
        }
      ]
    },
    {
      "cell_type": "code",
      "source": [
        "# 2. Structure_I_sythetic data\n",
        "\n",
        "# 3. Structure_II_synthetic data"
      ],
      "metadata": {
        "id": "yj_uWbIyq3KH"
      },
      "execution_count": null,
      "outputs": []
    },
    {
      "cell_type": "markdown",
      "source": [
        "# 4. Need to write own interactive plots API\n",
        "\n",
        "1. Design the plot you want \n",
        "\n",
        "2. Design the API and write it "
      ],
      "metadata": {
        "id": "S3YyjMsDEXdB"
      }
    },
    {
      "cell_type": "code",
      "source": [
        "# D3\n",
        "# Altair\n",
        "# Streamlit\n",
        "# 4 python interactive timeseries plots: https://towardsdatascience.com/top-4-python-libraries-to-build-interactive-timeseries-plots-f2214cc9b1ea"
      ],
      "metadata": {
        "id": "mcw4tCN9EkdB"
      },
      "execution_count": null,
      "outputs": []
    }
  ]
}